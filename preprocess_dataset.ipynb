{
 "cells": [
  {
   "cell_type": "markdown",
   "metadata": {},
   "source": [
    "# Visualize mask"
   ]
  },
  {
   "cell_type": "code",
   "execution_count": 1,
   "metadata": {},
   "outputs": [],
   "source": [
    "import cv2\n",
    "import numpy as np\n",
    "from matplotlib import pyplot as plt\n",
    "import os\n",
    "import glob"
   ]
  },
  {
   "cell_type": "code",
   "execution_count": 10,
   "metadata": {},
   "outputs": [],
   "source": [
    "def carla_mask_to_CityScapes(rgb_img : np.array):\n",
    "    city_scape_mask = np.empty_like(rgb_img)\n",
    "    classes = {\n",
    "        0: (0, 0, 0),         # Unlabeled\n",
    "        # 1: (70, 70, 70),      # Buildings\n",
    "        1: (128, 64, 128),\n",
    "        2: (100, 40, 40),     # Fences\n",
    "        3: (55, 90, 80),      # Other\n",
    "        4: (220, 20, 60),     # Pedestrians\n",
    "        5: (153, 153, 153),   # Pole\n",
    "        6: (157, 234, 50),    # RoadLine\n",
    "        7: (128, 64, 128),    # Road\n",
    "        8: (244, 35, 232),    # Sidewalk\n",
    "        9: (107, 142, 35),    # Vegetation\n",
    "        10: (0, 0, 142),      # Vehicles\n",
    "        11: (102, 102, 156),  # Wall\n",
    "        12: (220, 220, 0),    # TrafficSigns\n",
    "        13: (70, 130, 180),   # Sky\n",
    "        14: (81, 0, 81),      # Ground\n",
    "        15: (150, 100, 100),  # Bridge\n",
    "        16: (230, 150, 140),  # RailTrack\n",
    "        17: (180, 165, 180),  # GuardRail\n",
    "        18: (250, 170, 30),   # TrafficLight\n",
    "        19: (110, 190, 160),  # Static\n",
    "        20: (170, 120, 50),   # Dynamic\n",
    "        21: (45, 60, 150),    # Water\n",
    "        22: (145, 170, 100)   # Terrain\n",
    "    }\n",
    "    for key, value in classes.items():\n",
    "        city_scape_mask[rgb_img[:,:,0] == key] = value\n",
    "    return city_scape_mask"
   ]
  },
  {
   "cell_type": "markdown",
   "metadata": {},
   "source": [
    "# Fix file missing"
   ]
  },
  {
   "cell_type": "code",
   "execution_count": 30,
   "metadata": {},
   "outputs": [],
   "source": [
    "file_list = glob.glob(\"_out/rgb/*\")\n",
    "mask_list = glob.glob(\"_out/segmentation/*\")"
   ]
  },
  {
   "cell_type": "code",
   "execution_count": 37,
   "metadata": {},
   "outputs": [
    {
     "name": "stdout",
     "output_type": "stream",
     "text": [
      "16\n"
     ]
    }
   ],
   "source": [
    "deleted = 0\n",
    "for f in file_list:\n",
    "    full_path = f\"_out/segmentation/{os.path.basename(f)}\"\n",
    "    if not os.path.isfile(full_path):\n",
    "        os.remove(f)\n",
    "        deleted += 1\n",
    "\n",
    "print(deleted)"
   ]
  },
  {
   "cell_type": "code",
   "execution_count": 38,
   "metadata": {},
   "outputs": [
    {
     "name": "stdout",
     "output_type": "stream",
     "text": [
      "43\n"
     ]
    }
   ],
   "source": [
    "deleted = 0\n",
    "for f in mask_list:\n",
    "    full_path = f\"_out/rgb/{os.path.basename(f)}\"\n",
    "    if not os.path.isfile(full_path):\n",
    "        os.remove(f)\n",
    "        deleted += 1\n",
    "\n",
    "print(deleted)"
   ]
  },
  {
   "cell_type": "markdown",
   "metadata": {},
   "source": [
    "# Process mask"
   ]
  },
  {
   "cell_type": "code",
   "execution_count": 7,
   "metadata": {},
   "outputs": [],
   "source": [
    "def process_mask(rgb_mask : np.array):\n",
    "    mask = rgb_mask[:,:,0].copy()\n",
    "    # convert RoadLine and Road to 1\n",
    "    mask[np.logical_or(mask == 6, mask == 7)] = 1\n",
    "    # else convert to 0\n",
    "    mask[mask != 1] = 0\n",
    "    return mask\n"
   ]
  },
  {
   "cell_type": "code",
   "execution_count": 15,
   "metadata": {},
   "outputs": [],
   "source": [
    "def keep_biggest_mask(input_mask):\n",
    "    out = np.zeros_like(input_mask)\n",
    "    contours, _ = cv2.findContours(input_mask, cv2.RETR_TREE, cv2.CHAIN_APPROX_SIMPLE)\n",
    "    contour_area_max = 0\n",
    "    max_index = 0\n",
    "    for i, val in enumerate(contours):\n",
    "        val = cv2.contourArea(val)\n",
    "        if val > contour_area_max:\n",
    "            contour_area_max = val\n",
    "            max_index = i\n",
    "\n",
    "    return cv2.drawContours(out, contours, max_index, 1, cv2.FILLED)"
   ]
  },
  {
   "cell_type": "code",
   "execution_count": 143,
   "metadata": {},
   "outputs": [],
   "source": [
    "mask_list = glob.glob(\"_out/segmentation/*\")\n",
    "for mask_name in mask_list:\n",
    "    img = cv2.cvtColor(cv2.imread(mask_name), cv2.COLOR_BGR2RGB)\n",
    "    mask_processed = process_mask(img)\n",
    "    mask_processed = keep_biggest_mask(mask_processed) \n",
    "    # mask_processed = mask_processed * 255\n",
    "    cv2.imwrite(f\"_out/segmentation_processed/{os.path.basename(mask_name)}\", mask_processed)\n",
    "    "
   ]
  }
 ],
 "metadata": {
  "interpreter": {
   "hash": "417ba263ac87a9191875b4911da60bbcd19d0d1d23610645d6f3fea9de57db65"
  },
  "kernelspec": {
   "display_name": "Python 3.8.10 64-bit ('base': conda)",
   "name": "python3"
  },
  "language_info": {
   "codemirror_mode": {
    "name": "ipython",
    "version": 3
   },
   "file_extension": ".py",
   "mimetype": "text/x-python",
   "name": "python",
   "nbconvert_exporter": "python",
   "pygments_lexer": "ipython3",
   "version": "3.8.10"
  },
  "orig_nbformat": 4
 },
 "nbformat": 4,
 "nbformat_minor": 2
}
